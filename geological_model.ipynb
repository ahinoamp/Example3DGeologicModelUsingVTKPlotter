{
 "cells": [
  {
   "cell_type": "markdown",
   "metadata": {},
   "source": [
    "### This notebook shows how to make a 3D geological model that you can then be embedded in a website"
   ]
  },
  {
   "cell_type": "markdown",
   "metadata": {},
   "source": [
    "This is a notebook showing how to recreate a model of a geothermal reservoir using publicly available data.\n",
    "The model is of a reservoir in Utah that is part of a project called FORGE (Frontier Observatory for Research in Geothermal Energy).\n",
    "\n",
    "Original data source links are shown in the end."
   ]
  },
  {
   "cell_type": "markdown",
   "metadata": {},
   "source": [
    "![GeologicModel](ModelImage.png)"
   ]
  },
  {
   "cell_type": "code",
   "execution_count": 8,
   "metadata": {},
   "outputs": [],
   "source": [
    "#imports\n",
    "from vtkplotter import *\n",
    "import pandas as pd\n",
    "from scipy.spatial import Delaunay\n",
    "import matplotlib.pyplot as plt\n",
    "import matplotlib.colors as colors\n",
    "import numpy as np\n",
    "embedWindow('k3d') # or itkwidgets, False (for a popup)"
   ]
  },
  {
   "cell_type": "code",
   "execution_count": 2,
   "metadata": {},
   "outputs": [],
   "source": [
    "#########################\n",
    "# Load surfaces, import the file from github\n",
    "#########################\n",
    "printc(\"...loading data...\", invert=1)\n",
    "url = \"https://raw.githubusercontent.com/ahinoamp/Example3DGeologicModelUsingVTKPlotter/master/\"\n",
    "\n",
    "landSurfacePD = pd.read_csv(url+\"land_surface_vertices.csv\")\n",
    "vertices_175CPD = pd.read_csv(url+\"175C_vertices.csv\")\n",
    "vertices_225CPD = pd.read_csv(url+\"225C_vertices.csv\")\n",
    "Negro_Mag_Fault_verticesPD = pd.read_csv(url+\"Negro_Mag_Fault_vertices.csv\")\n",
    "Opal_Mound_Fault_verticesPD = pd.read_csv(url+\"Opal_Mound_Fault_vertices.csv\")\n",
    "top_granitoid_verticesPD = pd.read_csv(url+\"top_granitoid_vertices.csv\")\n",
    "microseismic = pd.read_csv(url+\"Microseismic.csv\")\n",
    "\n",
    "# The well path and different logs for the well paths\n",
    "well_5832_path = pd.read_csv(url+\"path5832.csv\")\n",
    "temp_well = pd.read_csv(url+\"temperature5832.csv\")\n",
    "nphi_well = pd.read_csv(url+\"nphi5832.csv\")\n",
    "pressure_well = pd.read_csv(url+\"pressure5832.csv\")\n",
    "\n",
    "# Since most of the wells in the area were just vertical, I split them into two files:\n",
    "# One file with the top of the wells and the other with the bottom point of the wellbore\n",
    "wellsmin = pd.read_csv(url+\"MinPointsWells.csv\")\n",
    "wellsmax = pd.read_csv(url+\"MaxPointsWells.csv\")\n",
    "\n",
    "# Project boundary area on the surface\n",
    "border = pd.read_csv(url+\"FORGE_Border.csv\")"
   ]
  },
  {
   "cell_type": "code",
   "execution_count": 9,
   "metadata": {},
   "outputs": [
    {
     "name": "stdout",
     "output_type": "stream",
     "text": [
      "\u001b[7m\u001b[1m...analyzing...\u001b[0m\n",
      "WARNING: K3D nr of line segments is limited to 200.\n"
     ]
    },
    {
     "data": {
      "application/vnd.jupyter.widget-view+json": {
       "model_id": "1b335dbc76114365bdeb3f3c3d8cfe77",
       "version_major": 2,
       "version_minor": 0
      },
      "text/plain": [
       "Plot(antialias=3, axes=['x', 'y', 'z'], axes_helper=1.0, background_color=16777215, camera=[349180.70020649576…"
      ]
     },
     "metadata": {},
     "output_type": "display_data"
    }
   ],
   "source": [
    "# Create a plotter window\n",
    "plt = Plotter(axes=dict(xtitle='km', ytitle=' ', ztitle='km*1.5', yzGrid=False),\n",
    "              size=(1200,900))    # screen size\n",
    "\n",
    "#############################################\n",
    "## 1. land surface: a mesh with varying color\n",
    "#############################################\n",
    "printc(\"...analyzing...\", invert=1)\n",
    "\n",
    "# perform a 2D Delaunay triangulation to get the cells from the point cloud\n",
    "tri = Delaunay(landSurfacePD.values[:, 0:2])\n",
    "\n",
    "# create a mesh object for the land surface\n",
    "landSurface = Mesh([landSurfacePD.values, tri.simplices])\n",
    "\n",
    "# in order to color it by the elevation, we use the z values of the mesh\n",
    "zvals = landSurface.points()[:, 2]\n",
    "landSurface.pointColors(zvals, cmap=\"terrain\", vmin=1000)\n",
    "landSurface.name = \"Land Surface\" # give the object a name\n",
    "\n",
    "#add landSurface to the plotter window\n",
    "plt.show(viewup=\"z\")"
   ]
  },
  {
   "cell_type": "code",
   "execution_count": 10,
   "metadata": {},
   "outputs": [
    {
     "name": "stdout",
     "output_type": "stream",
     "text": [
      "\u001b[7m\u001b[1m...plotting...\u001b[0m\n",
      "WARNING: K3D nr of line segments is limited to 200.\n"
     ]
    },
    {
     "data": {
      "application/vnd.jupyter.widget-view+json": {
       "model_id": "03eae2bebd254d30bc71c8cd4e3056d0",
       "version_major": 2,
       "version_minor": 0
      },
      "text/plain": [
       "Plot(antialias=3, axes=['x', 'y', 'z'], axes_helper=1.0, background_color=16777215, camera=[349.8709355303315,…"
      ]
     },
     "metadata": {},
     "output_type": "display_data"
    }
   ],
   "source": [
    "#############################################\n",
    "## 2. Different meshes with constant colors\n",
    "#############################################\n",
    "# Mesh of 175 C isotherm\n",
    "tri = Delaunay(vertices_175CPD.values[:, 0:2])\n",
    "vertices_175C = Mesh([vertices_175CPD.values, tri.simplices]).c(\"orange\").opacity(0.3)\n",
    "vertices_175C.name = \"175C temperature isosurface\"\n",
    "plt += vertices_175C.flag()\n",
    "\n",
    "# Mesh of 225 C isotherm\n",
    "tri = Delaunay(vertices_225CPD.values[:, 0:2])\n",
    "vertices_225CT = Mesh([vertices_225CPD.values, tri.simplices]).c(\"red\").opacity(0.4)\n",
    "vertices_225CT.name = \"225C temperature isosurface\"\n",
    "plt += vertices_225CT.flag()\n",
    "\n",
    "# Negro fault\n",
    "tri = Delaunay(Negro_Mag_Fault_verticesPD.values[:, 1:3])\n",
    "Negro_Mag_Fault_vertices = Mesh([Negro_Mag_Fault_verticesPD.values, tri.simplices])\n",
    "Negro_Mag_Fault_vertices.name = \"Negro Fault\"\n",
    "plt += Negro_Mag_Fault_vertices.c(\"f\").opacity(0.6).flag()\n",
    "\n",
    "# Opal fault\n",
    "tri = Delaunay(Opal_Mound_Fault_verticesPD.values[:, 1:3])\n",
    "Opal_Mound_Fault_vertices = Mesh([Opal_Mound_Fault_verticesPD.values, tri.simplices])\n",
    "Opal_Mound_Fault_vertices.name = \"Opal Mound Fault\"\n",
    "plt += Opal_Mound_Fault_vertices.c(\"g\").opacity(0.6).flag()\n",
    "\n",
    "# Top Granite\n",
    "xyz = top_granitoid_verticesPD.values\n",
    "xyz[:, 2] = top_granitoid_verticesPD.values[:, 2] - 20\n",
    "tri = Delaunay(top_granitoid_verticesPD.values[:, 0:2])\n",
    "top_granitoid_vertices = Mesh([xyz, tri.simplices]).c(\"darkcyan\")\n",
    "top_granitoid_vertices.name = \"Top of granite surface\"\n",
    "plt += top_granitoid_vertices.flag()\n",
    "\n",
    "####################\n",
    "## 3. Point objects\n",
    "####################\n",
    "printc(\"...plotting...\", invert=1)\n",
    "\n",
    "# FORGE Boundary. Since the boundary area did not have a Z column,\n",
    "# I assigned a Z value for where I wanted it to appear\n",
    "border[\"zcoord\"] = 1650\n",
    "borderxyz = border[[\"xcoord\", \"ycoord\", \"zcoord\"]]\n",
    "boundary = Line(borderxyz.values).extrude(zshift=120, cap=False).c(\"k\")\n",
    "boundary.name = \"FORGE area boundary\"\n",
    "plt += boundary.flag()\n",
    "\n",
    "# Microseismic\n",
    "microseismicxyz = microseismic[[\"xloc\", \"yloc\", \"zloc\"]]\n",
    "scals = microseismic[[\"mw\"]]\n",
    "microseismicPts = Points(microseismicxyz.values, r=4).pointColors(scals, cmap=\"jet\")\n",
    "microseismicPts.name = \"Microseismic events\"\n",
    "plt += microseismicPts.flag()\n",
    "\n",
    "####################\n",
    "## 4. Line objects\n",
    "####################\n",
    "# The path of well 58_32\n",
    "xyz = well_5832_path[[\"X\", \"Y\", \"Z\"]].values\n",
    "Well = Line(xyz)\n",
    "Well.name = \"Well 58-32\"\n",
    "plt += Well.flag()\n",
    "\n",
    "# A porosity log in the well\n",
    "xyz = nphi_well[[\"X\", \"Y\", \"Z\"]].values\n",
    "porosity = nphi_well[\"Nphi\"].values\n",
    "Well = Line(xyz).pointColors(porosity, cmap=\"hot\").c(\"gold\").lw(2)\n",
    "Well.name = \"Porosity log well 58-32\"\n",
    "plt += Well.flag()\n",
    "\n",
    "# This well data is actually represented by points since as of right now,\n",
    "xyz = pressure_well[[\"X\", \"Y\", \"Z\"]].values\n",
    "pressure = pressure_well[\"Pressure\"].values\n",
    "Well = Points(xyz, r=1).pointColors(pressure, cmap=\"cool\")\n",
    "Well.name = \"Pressure log well 58-32\"\n",
    "plt += Well.flag()\n",
    "\n",
    "# Temperatue log\n",
    "xyz = temp_well[[\"X\", \"Y\", \"Z\"]].values\n",
    "temp = temp_well[\"Temperature\"].values\n",
    "Well = Points(xyz, r=1).pointColors(temp, cmap=\"seismic\")\n",
    "Well.name = \"Temperature log well 58-32\"\n",
    "plt += Well.flag()\n",
    "\n",
    "#########################\n",
    "## 5. Multi-line objects\n",
    "#########################\n",
    "# defining the start and end of the lines that will be representing the wellbores\n",
    "Wells = Lines(wellsmin[[\"x\", \"y\", \"z\"]].values, # start points\n",
    "              wellsmax[[\"x\", \"y\", \"z\"]].values, # end points\n",
    "              c=\"gray\", alpha=1, lw=3)\n",
    "Wells.name = \"Pre-existing wellbores\"\n",
    "plt += Wells.flag()\n",
    "\n",
    "for a in plt.actors:\n",
    "    # change scale to kilometers in x and y, but expand z scale by 1.5!\n",
    "    a.scale([0.001, 0.001, 0.0015])\n",
    "\n",
    "#########################\n",
    "## 6. Done. show the plot\n",
    "#########################\n",
    "plt += __doc__\n",
    "plt.show(viewup=\"z\")\n",
    "\n",
    "#exportWindow(\"page.html\") # k3d is the default"
   ]
  },
  {
   "cell_type": "markdown",
   "metadata": {},
   "source": [
    "## Data sources"
   ]
  },
  {
   "cell_type": "markdown",
   "metadata": {},
   "source": [
    "All of the data is from the Geothermal Data Repository (https://gdr.openei.org/home) uploaded by the Energy and Geoscience Institute at the University of Utah.\n",
    "\n",
    "1. Earthquake data: \"Utah FORGE: Earthquake Catalog\", https://gdr.openei.org/submissions/1039\n",
    "2. Well 58-32  porosity log: \"Utah FORGE: Well 58-32 Schlumberger FMI Logs DLIS and XML files\", https://gdr.openei.org/submissions/1076\n",
    "3. Well 58-32 pressure and temperature logs: \"Utah FORGE: Milford Deep Test Well 58-32 (MU-ESW1) Pressure and Temperature Logs\", https://gdr.openei.org/submissions/1101\n",
    "4. Microseismic data: \"Utah FORGE: Microseismic Events\", https://gdr.openei.org/submissions/1151\n",
    "5. Well data and surfaces data: \"Utah FORGE: Well Data for Student Competition\", https://gdr.openei.org/submissions/1111"
   ]
  }
 ],
 "metadata": {
  "kernelspec": {
   "display_name": "Python 3",
   "language": "python",
   "name": "python3"
  },
  "language_info": {
   "codemirror_mode": {
    "name": "ipython",
    "version": 3
   },
   "file_extension": ".py",
   "mimetype": "text/x-python",
   "name": "python",
   "nbconvert_exporter": "python",
   "pygments_lexer": "ipython3",
   "version": "3.7.4"
  }
 },
 "nbformat": 4,
 "nbformat_minor": 2
}
